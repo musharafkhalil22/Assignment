{
 "cells": [
  {
   "cell_type": "markdown",
   "id": "b6233d77-a449-4bd0-a25b-f185897b39af",
   "metadata": {},
   "source": [
    "## 1. Write a Python program to print the numbers from 1 to 10 using a for loop. "
   ]
  },
  {
   "cell_type": "code",
   "execution_count": 3,
   "id": "15920fde-4607-4379-b90b-c59c4ffdcae9",
   "metadata": {},
   "outputs": [
    {
     "name": "stdout",
     "output_type": "stream",
     "text": [
      "1\n",
      "2\n",
      "3\n",
      "4\n",
      "5\n",
      "6\n",
      "7\n",
      "8\n",
      "9\n",
      "10\n"
     ]
    }
   ],
   "source": [
    "number = 10\n",
    "for num in range(number):\n",
    "    print(num+1)"
   ]
  },
  {
   "cell_type": "markdown",
   "id": "52b4e2cf-fa9e-498e-b935-67f78114aa3f",
   "metadata": {},
   "source": [
    "## 2. Write a Python program to print the numbers from 20 to 1 using a while loop."
   ]
  },
  {
   "cell_type": "code",
   "execution_count": 6,
   "id": "7b5bd3c2-8d1d-4ee5-9f91-0aeaf563e664",
   "metadata": {},
   "outputs": [
    {
     "name": "stdout",
     "output_type": "stream",
     "text": [
      "19\n",
      "18\n",
      "17\n",
      "16\n",
      "15\n",
      "14\n",
      "13\n",
      "12\n",
      "11\n",
      "10\n",
      "9\n",
      "8\n",
      "7\n",
      "6\n",
      "5\n",
      "4\n",
      "3\n",
      "2\n",
      "1\n"
     ]
    }
   ],
   "source": [
    "i = 20\n",
    "while i > 1:\n",
    "    i -= 1\n",
    "    print(i)"
   ]
  },
  {
   "cell_type": "markdown",
   "id": "514ee728-3579-4fd6-a50e-776132fb6613",
   "metadata": {},
   "source": [
    "## 3. Write a program to print even numbers from 1 to 10. "
   ]
  },
  {
   "cell_type": "code",
   "execution_count": 15,
   "id": "06a608c2-d0d7-4d61-a084-e4e77fd49aa7",
   "metadata": {},
   "outputs": [
    {
     "name": "stdout",
     "output_type": "stream",
     "text": [
      "2\n",
      "4\n",
      "6\n",
      "8\n",
      "10\n"
     ]
    }
   ],
   "source": [
    "number = 10\n",
    "for i in range(2, number+2, 2):\n",
    "    print(i)"
   ]
  },
  {
   "cell_type": "markdown",
   "id": "3ab68ea1-251a-4091-9aa9-12da27a76abc",
   "metadata": {},
   "source": [
    "## 4. Write a program that prompts the user to enter a number n and prints all the \n",
    "numbers from 1 to n."
   ]
  },
  {
   "cell_type": "code",
   "execution_count": 17,
   "id": "4ca389a3-aaf6-4be0-931b-735a5443aa50",
   "metadata": {},
   "outputs": [
    {
     "name": "stdin",
     "output_type": "stream",
     "text": [
      "Enter the number 10\n"
     ]
    },
    {
     "name": "stdout",
     "output_type": "stream",
     "text": [
      "1\n",
      "2\n",
      "3\n",
      "4\n",
      "5\n",
      "6\n",
      "7\n",
      "8\n",
      "9\n",
      "10\n"
     ]
    }
   ],
   "source": [
    "n = int(input(\"Enter the number\"))\n",
    "\n",
    "for i in range(n):\n",
    "    print(i+1)"
   ]
  },
  {
   "cell_type": "markdown",
   "id": "53eda886-cd7a-43df-8423-c161fb3c4461",
   "metadata": {},
   "source": [
    "## 5. Write a program that prompts the user to enter a number n, and then prints all the \n",
    "odd numbers between 1 and n."
   ]
  },
  {
   "cell_type": "code",
   "execution_count": 19,
   "id": "2a1324dc-b396-43e7-889b-c258cfb0749c",
   "metadata": {},
   "outputs": [
    {
     "name": "stdin",
     "output_type": "stream",
     "text": [
      "Enter the number 10\n"
     ]
    },
    {
     "name": "stdout",
     "output_type": "stream",
     "text": [
      "1\n",
      "3\n",
      "5\n",
      "7\n",
      "9\n"
     ]
    }
   ],
   "source": [
    "n = int(input(\"Enter the number\"))\n",
    "\n",
    "for i in range(1, n, 2):\n",
    "    print(i)"
   ]
  },
  {
   "cell_type": "markdown",
   "id": "b94111c2-3c50-42d7-9160-ed2b1f4fa88b",
   "metadata": {},
   "source": [
    "## 6. Write a program that prints 'Happy Birthday!' five times on screen. "
   ]
  },
  {
   "cell_type": "code",
   "execution_count": 20,
   "id": "cf032ad7-3988-4fab-872c-49507924e0d8",
   "metadata": {},
   "outputs": [
    {
     "name": "stdin",
     "output_type": "stream",
     "text": [
      "Wish the birthday Happy Birthday\n",
      "How many times you would wish? 5\n"
     ]
    },
    {
     "name": "stdout",
     "output_type": "stream",
     "text": [
      "Happy Birthday\n",
      "Happy Birthday\n",
      "Happy Birthday\n",
      "Happy Birthday\n",
      "Happy Birthday\n"
     ]
    }
   ],
   "source": [
    "wish = input(\"Wish the birthday\")\n",
    "num = int(input(\"How many times you would wish?\"))\n",
    "\n",
    "for n in range(num):\n",
    "    print(wish)"
   ]
  },
  {
   "cell_type": "markdown",
   "id": "5c8e6ce5-e506-4935-8ea9-d0fcc25012db",
   "metadata": {},
   "source": [
    "## 7. Write a program that takes a number n as input from the user and generates the first \n",
    "n terms of the series formed by squaring the natural numbers.\n",
    "Sample output \n",
    "Enter a number: 6 \n",
    "The first 6 terms of the series are: \n",
    "1 4 9 16 25 36 "
   ]
  },
  {
   "cell_type": "code",
   "execution_count": 3,
   "id": "120b9866-aa51-4b54-aeae-1d3a57d627c6",
   "metadata": {},
   "outputs": [
    {
     "name": "stdin",
     "output_type": "stream",
     "text": [
      "Enter the num 6\n"
     ]
    },
    {
     "name": "stdout",
     "output_type": "stream",
     "text": [
      "1\n",
      "4\n",
      "9\n",
      "16\n",
      "25\n",
      "36\n"
     ]
    }
   ],
   "source": [
    "n = int(input(\"Enter the num\"))\n",
    "\n",
    "for i in range(1, n+1):\n",
    "    print(i*i)\n",
    "        "
   ]
  },
  {
   "cell_type": "markdown",
   "id": "43a03c0d-7662-448f-bdfb-d305083a3d78",
   "metadata": {},
   "source": [
    "## 8. Write a program that prompts the user to input a number and prints its multiplication \n",
    "table. "
   ]
  },
  {
   "cell_type": "code",
   "execution_count": 28,
   "id": "a1a598d2-4965-45f2-ab53-6f740146596f",
   "metadata": {},
   "outputs": [
    {
     "name": "stdin",
     "output_type": "stream",
     "text": [
      "Enter the number for multiplication:  2\n",
      "Enter the number where you want to multipli 10\n"
     ]
    },
    {
     "name": "stdout",
     "output_type": "stream",
     "text": [
      "2 * 1 = 2\n",
      "2 * 2 = 4\n",
      "2 * 3 = 6\n",
      "2 * 4 = 8\n",
      "2 * 5 = 10\n",
      "2 * 6 = 12\n",
      "2 * 7 = 14\n",
      "2 * 8 = 16\n",
      "2 * 9 = 18\n",
      "2 * 10 = 20\n"
     ]
    }
   ],
   "source": [
    "table = int(input(\"Enter the number for multiplication: \"))\n",
    "num = int(input(\"Enter the number where you want to multipli\"))\n",
    "\n",
    "for i in range(1, num+1):\n",
    "    print(f\"{table} * {i} = {table * i}\")"
   ]
  },
  {
   "cell_type": "markdown",
   "id": "467f423b-740d-4e07-bbb9-702d9f0e111a",
   "metadata": {},
   "source": [
    "## 9. Write a Python program to print the first 8 terms of an arithmetic progression starting with 3 and having a common difference of 4. The program should output the following sequence: 3 7 11 15 19 23 27 31  "
   ]
  },
  {
   "cell_type": "code",
   "execution_count": 41,
   "id": "0c1d8c7c-4a33-4f53-9e65-8d230dabe0e5",
   "metadata": {},
   "outputs": [
    {
     "name": "stdin",
     "output_type": "stream",
     "text": [
      "Enter the term 3\n",
      "Enter the start point 2\n",
      "Enter the defference 3\n"
     ]
    },
    {
     "name": "stdout",
     "output_type": "stream",
     "text": [
      "2 5 8 "
     ]
    }
   ],
   "source": [
    "terms = int(input(\"Enter the term\"))\n",
    "start = int(input(\"Enter the start point\"))\n",
    "deference = int(input(\"Enter the defference\"))\n",
    "for term in range(terms):\n",
    "    sq = start + term * deference\n",
    "    print(sq, end=\" \")"
   ]
  },
  {
   "cell_type": "markdown",
   "id": "c291deec-e2ee-44f4-987f-20df60a40904",
   "metadata": {},
   "source": [
    "## 10. Write a Python program to print the first 6 terms of a geometric sequence starting with 2 and having a common ratio of 3.The program should output the following sequence: 2 6 18 54 162 486   "
   ]
  },
  {
   "cell_type": "code",
   "execution_count": 50,
   "id": "8f0df434-4134-4f14-b76c-74aa4a7bc064",
   "metadata": {},
   "outputs": [
    {
     "name": "stdin",
     "output_type": "stream",
     "text": [
      "Enter the term 6\n",
      "Enter the start number 2\n",
      "Enter the ratio 3\n"
     ]
    },
    {
     "name": "stdout",
     "output_type": "stream",
     "text": [
      "2 6 18 54 162 486 "
     ]
    }
   ],
   "source": [
    "terms = int(input(\"Enter the term\"))\n",
    "start = int(input(\"Enter the start number\"))\n",
    "ratio = int(input(\"Enter the ratio\"))\n",
    "\n",
    "for term in range(terms):\n",
    "    sq = start * (ratio ** term)\n",
    "    print(sq, end=\" \")"
   ]
  },
  {
   "cell_type": "markdown",
   "id": "bc99d5f0-4a00-4247-b8bd-92fe72392b3a",
   "metadata": {},
   "source": [
    "## 11. Write a program that asks the user for a positive integer value. The program should calculate the sum of all the integers from 1 up to the number entered. For example, if the user enters 20, the loop will find the sum of 1, 2, 3, 4, ... 20."
   ]
  },
  {
   "cell_type": "code",
   "execution_count": 1,
   "id": "44feb87a-553e-44d2-b198-6fbbec62ad68",
   "metadata": {},
   "outputs": [
    {
     "name": "stdin",
     "output_type": "stream",
     "text": [
      "Enter the number 20\n"
     ]
    },
    {
     "data": {
      "text/plain": [
       "210"
      ]
     },
     "execution_count": 1,
     "metadata": {},
     "output_type": "execute_result"
    }
   ],
   "source": [
    "num = int(input(\"Enter the number\"))\n",
    "total = 0\n",
    "for n in range(1, num+1):\n",
    "    total += n\n",
    "total"
   ]
  },
  {
   "cell_type": "markdown",
   "id": "858582b7-d7ba-4421-b715-fe9676eab1bd",
   "metadata": {},
   "source": [
    "## 12. write a program that takes a positive integer N as input and calculates the sum of the reciprocals of all numbers from 1 up to N. The program should display the final sum. Output of the program should be like: Enter a positive integer: 5 The sum of reciprocals from 1 to 5 is: 2.28"
   ]
  },
  {
   "cell_type": "code",
   "execution_count": 2,
   "id": "735e981d-be13-42c8-b598-02359d516a92",
   "metadata": {},
   "outputs": [
    {
     "name": "stdin",
     "output_type": "stream",
     "text": [
      "Enter a positive integer:  5\n"
     ]
    },
    {
     "name": "stdout",
     "output_type": "stream",
     "text": [
      "The sum of reciprocals from 1 to 5 is: 2.28\n"
     ]
    }
   ],
   "source": [
    "# Program to calculate sum of reciprocals\n",
    "\n",
    "N = int(input(\"Enter a positive integer: \"))\n",
    "\n",
    "# Initialize sum\n",
    "total = 0.0\n",
    "\n",
    "# Loop through numbers 1 to N\n",
    "for i in range(1, N + 1):\n",
    "    total += 1 / i\n",
    "\n",
    "# Display result with 2 decimal places\n",
    "print(f\"The sum of reciprocals from 1 to {N} is: {total:.2f}\")\n"
   ]
  },
  {
   "cell_type": "markdown",
   "id": "0a651fbe-a4a1-4e46-a565-c982fa5f6097",
   "metadata": {},
   "source": [
    "### 13. Write a program that prompts the user to enter a number and repeats this process 5\n",
    "times. The program should accumulate the numbers entered and then display the final running total. Sample Output:\n",
    "\n",
    "- Enter a number: 10\n",
    "- Enter a number: 15\n",
    "- Enter a number: 35\n",
    "- Enter a number: 40\n",
    "- Enter a number: 50\n",
    "The final running total is: 150"
   ]
  },
  {
   "cell_type": "code",
   "execution_count": 3,
   "id": "660e4c9e-e362-41dd-ab46-4e9b6899dd29",
   "metadata": {},
   "outputs": [
    {
     "name": "stdin",
     "output_type": "stream",
     "text": [
      "Enter a number:  10\n",
      "Enter a number:  15\n",
      "Enter a number:  35\n",
      "Enter a number:  40\n",
      "Enter a number:  50\n"
     ]
    },
    {
     "name": "stdout",
     "output_type": "stream",
     "text": [
      "The final running total is: 150\n"
     ]
    }
   ],
   "source": [
    "total = 0  # initialize running total\n",
    "\n",
    "for i in range(5):\n",
    "    num = int(input(\"Enter a number: \"))\n",
    "    total += num   # add each entered number to total\n",
    "\n",
    "print(f\"The final running total is: {total}\")"
   ]
  },
  {
   "cell_type": "markdown",
   "id": "fd775c17-423b-49e0-b70e-37681a512466",
   "metadata": {},
   "source": [
    "## 14. Write a program that prompts the user to enter a positive integer and calculates its factorial. The factorial of a positive integer 'n' is denoted as 'n!' and is calculated by multiplying all the integers from 1 to 'n' together. For example, the factorial of 5 (denoted as 5!) is calculated as 1 x 2 x 3 x 4 x 5.\n",
    "\n",
    "### The program should display the factorial value if the input is a positive number, or display a message stating that the factorial does not exist for negative numbers. Additionally, for an input of zero, the program should output that the factorial of 0 is 1.\n",
    "\n",
    " \n",
    "\n",
    " \n"
   ]
  },
  {
   "cell_type": "code",
   "execution_count": 5,
   "id": "35fc9006-ec01-49ed-9274-81d79553cc90",
   "metadata": {},
   "outputs": [
    {
     "name": "stdin",
     "output_type": "stream",
     "text": [
      "Enter a positive integer:  5\n"
     ]
    },
    {
     "name": "stdout",
     "output_type": "stream",
     "text": [
      "The factorial of 5 is: 120\n"
     ]
    }
   ],
   "source": [
    "# Factorial calculator program\n",
    "\n",
    "num = int(input(\"Enter a positive integer: \"))\n",
    "\n",
    "if num < 0:\n",
    "    print(\"Factorial does not exist for negative numbers.\")\n",
    "elif num == 0:\n",
    "    print(\"The factorial of 0 is: 1\")\n",
    "else:\n",
    "    factorial = 1\n",
    "    for i in range(1, num + 1):\n",
    "        factorial *= i\n",
    "    print(f\"The factorial of {num} is: {factorial}\")\n"
   ]
  },
  {
   "cell_type": "markdown",
   "id": "b01f689a-cf6f-4609-b9c4-f7303dd05887",
   "metadata": {},
   "source": [
    " ## 15. Write a Python program that prompts the user to enter a base number and an exponent, and then calculates the power of the base to the exponent. The program should not use the exponentiation operator (**) or the math.pow() function. The program should handle both positive and negative exponents."
   ]
  },
  {
   "cell_type": "code",
   "execution_count": 6,
   "id": "a5de1a4c-ec16-40aa-81ee-e821a4babcd3",
   "metadata": {},
   "outputs": [
    {
     "name": "stdin",
     "output_type": "stream",
     "text": [
      "Enter the base number:  2\n",
      "Enter the exponent:  5\n"
     ]
    },
    {
     "name": "stdout",
     "output_type": "stream",
     "text": [
      "2.0 raised to the power 5 is: 32.0\n"
     ]
    }
   ],
   "source": [
    "# Power calculator without ** or math.pow()\n",
    "\n",
    "base = float(input(\"Enter the base number: \"))\n",
    "exp = int(input(\"Enter the exponent: \"))\n",
    "\n",
    "result = 1\n",
    "\n",
    "if exp > 0:\n",
    "    for i in range(exp):\n",
    "        result *= base\n",
    "elif exp < 0:\n",
    "    for i in range(-exp):   # take positive value of exponent\n",
    "        result *= base\n",
    "    result = 1 / result     # reciprocal for negative exponent\n",
    "else:\n",
    "    result = 1   # any number power 0 is 1\n",
    "\n",
    "print(f\"{base} raised to the power {exp} is: {result}\")\n"
   ]
  },
  {
   "cell_type": "code",
   "execution_count": null,
   "id": "955815d3-bff0-44f7-8e82-1f1a1b08f9eb",
   "metadata": {},
   "outputs": [],
   "source": []
  }
 ],
 "metadata": {
  "kernelspec": {
   "display_name": "Python [conda env:base] *",
   "language": "python",
   "name": "conda-base-py"
  },
  "language_info": {
   "codemirror_mode": {
    "name": "ipython",
    "version": 3
   },
   "file_extension": ".py",
   "mimetype": "text/x-python",
   "name": "python",
   "nbconvert_exporter": "python",
   "pygments_lexer": "ipython3",
   "version": "3.13.5"
  }
 },
 "nbformat": 4,
 "nbformat_minor": 5
}
