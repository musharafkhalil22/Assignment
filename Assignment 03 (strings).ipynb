{
 "cells": [
  {
   "cell_type": "markdown",
   "id": "c49112ad-9183-4cef-8019-7f53ded10146",
   "metadata": {},
   "source": [
    "##                               Strings Assignments "
   ]
  },
  {
   "cell_type": "markdown",
   "id": "19db0f36-9dcb-4a59-a648-9bde0e8aab13",
   "metadata": {},
   "source": [
    "1. Write a program that accepts a string from user. Your program should count and display number of \n",
    "vowels in that string."
   ]
  },
  {
   "cell_type": "code",
   "execution_count": null,
   "id": "c3e4b859-c525-4380-b9db-5549640f46d1",
   "metadata": {},
   "outputs": [],
   "source": []
  }
 ],
 "metadata": {
  "kernelspec": {
   "display_name": "Python [conda env:base] *",
   "language": "python",
   "name": "conda-base-py"
  },
  "language_info": {
   "codemirror_mode": {
    "name": "ipython",
    "version": 3
   },
   "file_extension": ".py",
   "mimetype": "text/x-python",
   "name": "python",
   "nbconvert_exporter": "python",
   "pygments_lexer": "ipython3",
   "version": "3.13.5"
  }
 },
 "nbformat": 4,
 "nbformat_minor": 5
}
