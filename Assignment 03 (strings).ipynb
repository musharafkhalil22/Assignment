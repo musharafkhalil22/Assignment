{
 "cells": [
  {
   "cell_type": "markdown",
   "id": "c49112ad-9183-4cef-8019-7f53ded10146",
   "metadata": {},
   "source": [
    "##                               Strings Assignments "
   ]
  },
  {
   "cell_type": "markdown",
   "id": "19db0f36-9dcb-4a59-a648-9bde0e8aab13",
   "metadata": {},
   "source": [
    "1. Write a program that accepts a string from user. Your program should count and display number of \n",
    "vowels in that string."
   ]
  },
  {
   "cell_type": "code",
   "execution_count": 72,
   "id": "840764ff-c056-48a7-8848-ababffcd5ff6",
   "metadata": {},
   "outputs": [
    {
     "name": "stdin",
     "output_type": "stream",
     "text": [
      "Enter the strings:  Musharaf Khalil\n"
     ]
    },
    {
     "name": "stdout",
     "output_type": "stream",
     "text": [
      "Count vowels in strings 5\n"
     ]
    }
   ],
   "source": [
    "string = input(\"Enter the strings: \")\n",
    "vowels = \"aeiou\"\n",
    "count = 0\n",
    "for char in string:\n",
    "    if char in vowels:\n",
    "        count += 1\n",
    "    \n",
    "    \n",
    "print(\"Count vowels in strings\",count)"
   ]
  },
  {
   "cell_type": "markdown",
   "id": "23af425c-9da9-498d-93df-9e131b3640fc",
   "metadata": {},
   "source": [
    "## 2. Write a program that reads a string from keyboard and display: \n",
    "* The number of uppercase letters in the string \n",
    "* The number of lowercase letters in the string \n",
    "* The number of digits in the string \n",
    "* The number of whitespace characters in the string "
   ]
  },
  {
   "cell_type": "code",
   "execution_count": 82,
   "id": "db1bcf85-dca8-4497-af04-48eb7c6e504b",
   "metadata": {},
   "outputs": [
    {
     "name": "stdin",
     "output_type": "stream",
     "text": [
      "Enter the string text Musharaf Khalil like the numbers of 17 22\n"
     ]
    },
    {
     "name": "stdout",
     "output_type": "stream",
     "text": [
      "Upercase 2\n",
      "lowercase 28\n",
      "digits 4\n",
      "whitespace 7\n"
     ]
    }
   ],
   "source": [
    "text = input(\"Enter the string text\")\n",
    "\n",
    "upercase = 0\n",
    "lowercase = 0\n",
    "digits = 0\n",
    "whitespace = 0\n",
    "\n",
    "for char in text:\n",
    "    if char.isupper() :\n",
    "        upercase += 1\n",
    "    elif char.islower():\n",
    "        lowercase += 1\n",
    "    elif char.isdigit():\n",
    "        digits += 1\n",
    "    elif char.isspace():\n",
    "        whitespace += 1\n",
    "print(\"Upercase\", upercase)\n",
    "print(\"lowercase\", lowercase)\n",
    "print(\"digits\", digits)\n",
    "print(\"whitespace\", whitespace)"
   ]
  },
  {
   "cell_type": "markdown",
   "id": "1091271c-51de-4416-bef3-7ba8f3bafce8",
   "metadata": {},
   "source": [
    "## 3. Write a Python program that accepts a string from user. Your program should create and display a \n",
    "new string where the first and last characters have been exchanged. \n",
    "For example if the user enters the string 'HELLO' then new string would be 'OELLH'  "
   ]
  },
  {
   "cell_type": "code",
   "execution_count": 85,
   "id": "45972f6c-e8eb-4e07-8a32-5c707f343f7f",
   "metadata": {},
   "outputs": [
    {
     "name": "stdin",
     "output_type": "stream",
     "text": [
      "Enter a string:  Musharaf Khalil\n"
     ]
    },
    {
     "name": "stdout",
     "output_type": "stream",
     "text": [
      "New string: lusharaf KhaliM\n"
     ]
    }
   ],
   "source": [
    "text = input(\"Enter a string: \")\n",
    "\n",
    "new_text = text[-1] + text[1:-1] + text[0]\n",
    "  \n",
    "print(\"New string:\", new_text)"
   ]
  },
  {
   "cell_type": "markdown",
   "id": "1cfc69df-b080-4e1c-9707-f49da34acadd",
   "metadata": {},
   "source": [
    "## 4. Write a Python program that accepts a string from user. Your program should create a new string in \n",
    "reverse of first string and display it. \n",
    "For example if the user enters the string 'EXAM' then new string would be 'MAXE'  "
   ]
  },
  {
   "cell_type": "code",
   "execution_count": 86,
   "id": "4e35162d-4e8c-4a4f-99a0-dbf9a7b36a33",
   "metadata": {},
   "outputs": [
    {
     "name": "stdin",
     "output_type": "stream",
     "text": [
      "Enter a string:  musharafSana\n"
     ]
    },
    {
     "name": "stdout",
     "output_type": "stream",
     "text": [
      "Reversed string: anaSfarahsum\n"
     ]
    }
   ],
   "source": [
    "text = input(\"Enter a string: \")\n",
    "\n",
    "new_text = text[::-1]\n",
    "\n",
    "print(\"Reversed string:\", new_text)"
   ]
  },
  {
   "cell_type": "markdown",
   "id": "66a08d3e-cf65-4bd9-8619-cea1c9f81541",
   "metadata": {},
   "source": [
    "## 5. Write a Python program that accepts a string from user. Your program should create a new string by \n",
    "shifting one position to left. \n",
    "For example if the user enters the string 'examination 2021' then new string would be 'xamination \n",
    "2021e'  "
   ]
  },
  {
   "cell_type": "code",
   "execution_count": 87,
   "id": "1c1121ce-6497-4e4f-8e6a-cd553b6518cd",
   "metadata": {},
   "outputs": [
    {
     "name": "stdin",
     "output_type": "stream",
     "text": [
      "Enter a string:  examination2025\n"
     ]
    },
    {
     "name": "stdout",
     "output_type": "stream",
     "text": [
      "New string: xamination2025e\n"
     ]
    }
   ],
   "source": [
    "text = input(\"Enter a string: \")\n",
    "\n",
    "if len(text) > 1:\n",
    "    new_text = text[1:] + text[0]\n",
    "    \n",
    "else:\n",
    "    new_text = text   \n",
    "\n",
    "print(\"New string:\", new_text)"
   ]
  },
  {
   "cell_type": "markdown",
   "id": "27d9c68f-e198-4abd-b1f9-01debe3383c6",
   "metadata": {},
   "source": [
    "## 6. Write a program that asks the user to input his name and print its initials. Assuming that the user \n",
    "always types first name, middle name and last name and does not include any unnecessary spaces. \n",
    "For example, if the user enters Ajay Kumar Garg the program should display A. K. G. \n",
    "Note:Don't use split() method "
   ]
  },
  {
   "cell_type": "code",
   "execution_count": 88,
   "id": "f7cf0d6e-3cd9-40b7-9f46-68a7b1e61078",
   "metadata": {},
   "outputs": [
    {
     "name": "stdin",
     "output_type": "stream",
     "text": [
      "Enter your full name (First Middle Last):  Musharaf khalil Mughal\n"
     ]
    },
    {
     "name": "stdout",
     "output_type": "stream",
     "text": [
      "Initials: M. K. M. \n"
     ]
    }
   ],
   "source": [
    "name = input(\"Enter your full name (First Middle Last): \")\n",
    "\n",
    "# Initialize result\n",
    "initials = \"\"\n",
    "\n",
    "# First character is always an initial\n",
    "initials += name[0].upper() + \". \"\n",
    "\n",
    "# Loop through the string to find spaces\n",
    "for i in range(len(name)):\n",
    "    if name[i] == \" \":              # if space found\n",
    "        initials += name[i+1].upper() + \". \"   # take next character\n",
    "\n",
    "# Display initials\n",
    "print(\"Initials:\", initials)"
   ]
  },
  {
   "cell_type": "markdown",
   "id": "fd7283db-9366-46d6-bea7-0c9a600b682f",
   "metadata": {},
   "source": [
    "## 7. A palindrome is a string that reads the same backward as forward. For example, the words dad, \n",
    "madam and radar are all palindromes. Write a programs that determines whether the string is a \n",
    "palindrome. \n",
    "Note: do not use reverse() method "
   ]
  },
  {
   "cell_type": "code",
   "execution_count": 89,
   "id": "509926a0-63f8-471b-add4-660ad8ca795e",
   "metadata": {},
   "outputs": [
    {
     "name": "stdin",
     "output_type": "stream",
     "text": [
      "Enter a string:  dad\n"
     ]
    },
    {
     "name": "stdout",
     "output_type": "stream",
     "text": [
      "Yes! It is a palindrome.\n"
     ]
    }
   ],
   "source": [
    "text = input(\"Enter a string: \")\n",
    "\n",
    "# Assume it is palindrome\n",
    "is_palindrome = True\n",
    "\n",
    "# Compare characters from start and end\n",
    "for i in range(len(text) // 2):   # only need to check half\n",
    "    if text[i] != text[len(text) - 1 - i]:\n",
    "        is_palindrome = False\n",
    "        break\n",
    "\n",
    "# Display result\n",
    "if is_palindrome:\n",
    "    print(\"Yes! It is a palindrome.\")\n",
    "else:\n",
    "    print(\"No! It is not a palindrome.\")"
   ]
  },
  {
   "cell_type": "markdown",
   "id": "a8297295-003e-4fac-8762-7aa3206abdf5",
   "metadata": {},
   "source": [
    "## 8. Write a program that display following output: \n",
    "SHIFT \n",
    "HIFTS \n",
    "IFTSH \n",
    "FTSHI \n",
    "TSHIF \n",
    "SHIFT  "
   ]
  },
  {
   "cell_type": "code",
   "execution_count": 90,
   "id": "a9b175e1-5e1b-4b52-a98e-c549a01f28a5",
   "metadata": {},
   "outputs": [
    {
     "name": "stdout",
     "output_type": "stream",
     "text": [
      "SHIFT\n",
      "HIFTS\n",
      "IFTSH\n",
      "FTSHI\n",
      "TSHIF\n"
     ]
    }
   ],
   "source": [
    "word = \"SHIFT\"\n",
    "\n",
    "for i in range(len(word)):\n",
    "    rotated = word[i:] + word[:i]   # slice and rotate\n",
    "    print(rotated)"
   ]
  },
  {
   "cell_type": "markdown",
   "id": "f14bf795-cad5-4a53-b367-b6760a16de89",
   "metadata": {},
   "source": [
    "## 9. Write a program in python that accepts a string to setup a passwords. Your entered password must \n",
    "meet the following requirements: \n",
    "The password must be at least eight characters long. \n",
    "It must contain at least one uppercase letter. \n",
    "It must contain at least one lowercase letter. \n",
    "It must contain at least one numeric digit. \n",
    "Your program should should perform this validation.  \n"
   ]
  },
  {
   "cell_type": "code",
   "execution_count": 91,
   "id": "fa8cb896-4fcd-4de3-a273-444401c47bdb",
   "metadata": {},
   "outputs": [
    {
     "name": "stdin",
     "output_type": "stream",
     "text": [
      "Enter a password:  @$Mughaal323\n"
     ]
    },
    {
     "name": "stdout",
     "output_type": "stream",
     "text": [
      "✅ Password is valid!\n"
     ]
    }
   ],
   "source": [
    "# Program to validate password according to given requirements\n",
    "\n",
    "# Take input from user\n",
    "password = input(\"Enter a password: \")\n",
    "\n",
    "# Initialize flags\n",
    "has_upper = False\n",
    "has_lower = False\n",
    "has_digit = False\n",
    "\n",
    "# Check each character in password\n",
    "for char in password:\n",
    "    if char.isupper():\n",
    "        has_upper = True\n",
    "    elif char.islower():\n",
    "        has_lower = True\n",
    "    elif char.isdigit():\n",
    "        has_digit = True\n",
    "\n",
    "# Validate password\n",
    "if len(password) < 8:\n",
    "    print(\"❌ Password must be at least 8 characters long.\")\n",
    "elif not has_upper:\n",
    "    print(\"❌ Password must contain at least one uppercase letter.\")\n",
    "elif not has_lower:\n",
    "    print(\"❌ Password must contain at least one lowercase letter.\")\n",
    "elif not has_digit:\n",
    "    print(\"❌ Password must contain at least one numeric digit.\")\n",
    "else:\n",
    "    print(\"✅ Password is valid!\")\n"
   ]
  }
 ],
 "metadata": {
  "kernelspec": {
   "display_name": "Python [conda env:base] *",
   "language": "python",
   "name": "conda-base-py"
  },
  "language_info": {
   "codemirror_mode": {
    "name": "ipython",
    "version": 3
   },
   "file_extension": ".py",
   "mimetype": "text/x-python",
   "name": "python",
   "nbconvert_exporter": "python",
   "pygments_lexer": "ipython3",
   "version": "3.13.5"
  }
 },
 "nbformat": 4,
 "nbformat_minor": 5
}
