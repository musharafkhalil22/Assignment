{
 "cells": [
  {
   "cell_type": "markdown",
   "metadata": {},
   "source": [
    "# Part -1 Python Basics (Variables)"
   ]
  },
  {
   "cell_type": "markdown",
   "metadata": {},
   "source": [
    "1. Print Your Name with your Father name and Date of birth using suitable escape sequence charactor"
   ]
  },
  {
   "cell_type": "code",
   "execution_count": 1,
   "metadata": {},
   "outputs": [
    {
     "name": "stdout",
     "output_type": "stream",
     "text": [
      "Name:\t Musharaf\n",
      "Father's Name:\t Khalil\n",
      "Date of Birth:\t 15-12-2000\n"
     ]
    }
   ],
   "source": [
    "name = \"Musharaf\"\n",
    "father_name = \"Khalil\"\n",
    "dob = \"15-12-2000\"\n",
    "print(\"Name:\\t\", name)            \n",
    "print(\"Father's Name:\\t\", father_name)\n",
    "print(\"Date of Birth:\\t\", dob)"
   ]
  },
  {
   "cell_type": "markdown",
   "metadata": {},
   "source": [
    "2. Write your small bio using variables and print it using print function"
   ]
  },
  {
   "cell_type": "code",
   "execution_count": 2,
   "metadata": {},
   "outputs": [
    {
     "name": "stdout",
     "output_type": "stream",
     "text": [
      "---- My Bio ----\n",
      "Name:  Musharaf Khalil\n",
      "Age:  20\n",
      "Qualification:  Intermediate\n",
      "Hobby:  Learning Python and Web Development\n",
      "City:  Peshawar\n"
     ]
    }
   ],
   "source": [
    "# Variables\n",
    "name = \"Musharaf Khalil\"\n",
    "age = 20\n",
    "qualification = \"Intermediate\"\n",
    "hobby = \"Learning Python and Web Development\"\n",
    "city = \"Peshawar\"\n",
    "\n",
    "# Printing Bio\n",
    "print(\"---- My Bio ----\")\n",
    "print(\"Name: \", name)\n",
    "print(\"Age: \", age)\n",
    "print(\"Qualification: \", qualification)\n",
    "print(\"Hobby: \", hobby)\n",
    "print(\"City: \", city)\n"
   ]
  },
  {
   "cell_type": "markdown",
   "metadata": {},
   "source": [
    "3. Write a program in which use all the operators we can use in Python"
   ]
  },
  {
   "cell_type": "code",
   "execution_count": 2,
   "metadata": {},
   "outputs": [
    {
     "name": "stdout",
     "output_type": "stream",
     "text": [
      "---- Arithmetic Operators ----\n",
      "a + b = 13\n",
      "a - b = 7\n",
      "a * b = 30\n",
      "a / b = 3.3333333333333335\n",
      "a % b = 1\n",
      "a // b = 3\n",
      "a ** b = 1000\n",
      "\n",
      "---- Assignment Operators ----\n",
      "x = 5\n",
      "x += 2 -> 7\n",
      "x -= 1 -> 6\n",
      "x *= 3 -> 18\n",
      "x /= 2 -> 9.0\n",
      "x %= 3 -> 0.0\n",
      "x //= 2 -> 0.0\n",
      "x **= 2 -> 0.0\n",
      "\n",
      "---- Comparison Operators ----\n",
      "a == b -> False\n",
      "a != b -> True\n",
      "a > b  -> True\n",
      "a < b  -> False\n",
      "a >= b -> True\n",
      "a <= b -> False\n",
      "\n",
      "---- Logical Operators ----\n",
      "(a > 5) and (b < 5) -> True\n",
      "(a > 5) or (b > 5)  -> True\n",
      "not(a > 5) -> False\n",
      "\n",
      "---- Identity Operators ----\n",
      "a is c -> True\n",
      "a is not b -> True\n",
      "\n",
      "---- Membership Operators ----\n",
      "a in list1 -> True\n",
      "b not in list1 -> False\n",
      "\n",
      "---- Bitwise Operators ----\n",
      "a & b = 2\n",
      "a | b = 11\n",
      "a ^ b = 9\n",
      "~a = -11\n",
      "a << 2 = 40\n",
      "a >> 2 = 2\n"
     ]
    }
   ],
   "source": [
    "# Variables\n",
    "a = 10\n",
    "b = 3\n",
    "\n",
    "print(\"---- Arithmetic Operators ----\")\n",
    "print(\"a + b =\", a + b)\n",
    "print(\"a - b =\", a - b)\n",
    "print(\"a * b =\", a * b)\n",
    "print(\"a / b =\", a / b)\n",
    "print(\"a % b =\", a % b)\n",
    "print(\"a // b =\", a // b)\n",
    "print(\"a ** b =\", a ** b)\n",
    "\n",
    "print(\"\\n---- Assignment Operators ----\")\n",
    "x = 5\n",
    "print(\"x =\", x)\n",
    "x += 2\n",
    "print(\"x += 2 ->\", x)\n",
    "x -= 1\n",
    "print(\"x -= 1 ->\", x)\n",
    "x *= 3\n",
    "print(\"x *= 3 ->\", x)\n",
    "x /= 2\n",
    "print(\"x /= 2 ->\", x)\n",
    "x %= 3\n",
    "print(\"x %= 3 ->\", x)\n",
    "x //= 2\n",
    "print(\"x //= 2 ->\", x)\n",
    "x **= 2\n",
    "print(\"x **= 2 ->\", x)\n",
    "\n",
    "print(\"\\n---- Comparison Operators ----\")\n",
    "print(\"a == b ->\", a == b)\n",
    "print(\"a != b ->\", a != b)\n",
    "print(\"a > b  ->\", a > b)\n",
    "print(\"a < b  ->\", a < b)\n",
    "print(\"a >= b ->\", a >= b)\n",
    "print(\"a <= b ->\", a <= b)\n",
    "\n",
    "print(\"\\n---- Logical Operators ----\")\n",
    "print(\"(a > 5) and (b < 5) ->\", (a > 5) and (b < 5))\n",
    "print(\"(a > 5) or (b > 5)  ->\", (a > 5) or (b > 5))\n",
    "print(\"not(a > 5) ->\", not(a > 5))\n",
    "\n",
    "print(\"\\n---- Identity Operators ----\")\n",
    "c = a\n",
    "print(\"a is c ->\", a is c)\n",
    "print(\"a is not b ->\", a is not b)\n",
    "\n",
    "print(\"\\n---- Membership Operators ----\")\n",
    "list1 = [1, 2, 3, 10]\n",
    "print(\"a in list1 ->\", a in list1)\n",
    "print(\"b not in list1 ->\", b not in list1)\n",
    "\n",
    "print(\"\\n---- Bitwise Operators ----\")\n",
    "print(\"a & b =\", a & b)\n",
    "print(\"a | b =\", a | b)\n",
    "print(\"a ^ b =\", a ^ b)\n",
    "print(\"~a =\", ~a)\n",
    "print(\"a << 2 =\", a << 2)\n",
    "print(\"a >> 2 =\", a >> 2)\n"
   ]
  },
  {
   "cell_type": "markdown",
   "metadata": {},
   "source": [
    "4. Completes the following steps of small task:\n",
    "    - Mention Marks of English , Islamiat and Maths out of 100 in 3 different variables\n",
    "    - Mention Variable of Total Marks and assign 300 to it\n",
    "    - Calculate Percentage"
   ]
  },
  {
   "cell_type": "code",
   "execution_count": 25,
   "metadata": {},
   "outputs": [
    {
     "data": {
      "text/plain": [
       "71.66666666666667"
      ]
     },
     "execution_count": 25,
     "metadata": {},
     "output_type": "execute_result"
    }
   ],
   "source": [
    "english = 75\n",
    "islamiat = 80\n",
    "math = 60\n",
    "total_marks = 300\n",
    "percentage = (english + islamiat + math) * 100 / total_marks\n",
    "percentage\n"
   ]
  }
 ],
 "metadata": {
  "kernelspec": {
   "display_name": "Python [conda env:base] *",
   "language": "python",
   "name": "conda-base-py"
  },
  "language_info": {
   "codemirror_mode": {
    "name": "ipython",
    "version": 3
   },
   "file_extension": ".py",
   "mimetype": "text/x-python",
   "name": "python",
   "nbconvert_exporter": "python",
   "pygments_lexer": "ipython3",
   "version": "3.13.5"
  }
 },
 "nbformat": 4,
 "nbformat_minor": 4
}
