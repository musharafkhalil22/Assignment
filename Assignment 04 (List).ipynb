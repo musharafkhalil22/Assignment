{
 "cells": [
  {
   "cell_type": "markdown",
   "id": "f0c8bff3-15de-446e-b3eb-d220e6d152bc",
   "metadata": {},
   "source": [
    "##      List Assignment"
   ]
  },
  {
   "cell_type": "markdown",
   "id": "744f1489-43b0-45dd-93f6-5cebc06108ad",
   "metadata": {},
   "source": [
    "## 1. Write a program that accepts a list from user and print the alternate element of list."
   ]
  },
  {
   "cell_type": "code",
   "execution_count": 7,
   "id": "6fe9e570-5fba-4d1b-be96-615edc9738f4",
   "metadata": {},
   "outputs": [
    {
     "name": "stdin",
     "output_type": "stream",
     "text": [
      "Enter elements of the list separated by spaces:  10 20 30 40 50\n"
     ]
    },
    {
     "name": "stdout",
     "output_type": "stream",
     "text": [
      "Alternate elements of the list are:\n",
      "10\n",
      "30\n",
      "50\n"
     ]
    }
   ],
   "source": [
    "user_input = input(\"Enter elements of the list separated by spaces: \")\n",
    "\n",
    "# Convert input string into list\n",
    "lst = user_input.split()\n",
    "\n",
    "# Print alternate elements\n",
    "print(\"Alternate elements of the list are:\")\n",
    "for i in range(0, len(lst), 2):   # step = 2\n",
    "    print(lst[i])"
   ]
  },
  {
   "cell_type": "markdown",
   "id": "6e051396-2034-4d9e-ae71-df0c404ca056",
   "metadata": {},
   "source": [
    "## 2. Write a program that accepts a list from user. Your program should reverse the content of list and \n",
    "display it. Do not use reverse() method."
   ]
  },
  {
   "cell_type": "code",
   "execution_count": 48,
   "id": "328a4fba-fc67-42d5-a58c-795428e042a6",
   "metadata": {},
   "outputs": [
    {
     "name": "stdin",
     "output_type": "stream",
     "text": [
      "Enter elements of list separated by space:  1 2 3 4 5 6 7 8\n"
     ]
    },
    {
     "name": "stdout",
     "output_type": "stream",
     "text": [
      "['8', '7', '6', '5', '4', '3', '2', '1']\n"
     ]
    }
   ],
   "source": [
    "# Take input from user\n",
    "user_input = input(\"Enter elements of list separated by space: \")\n",
    "\n",
    "lst = user_input.split()\n",
    "\n",
    "reserve_lst = [lst[i] for i in range(len(lst)-1, -1, -1)]\n",
    "\n",
    "\n",
    "print(reserve_lst)    \n"
   ]
  },
  {
   "cell_type": "markdown",
   "id": "344efb68-d6c7-44bd-b628-4ed1709492e7",
   "metadata": {},
   "source": [
    "# 3. Find and display the largest number of a list without using built-in function max(). Your program \n",
    "should ask the user to input values in list from keyboard. "
   ]
  },
  {
   "cell_type": "code",
   "execution_count": 77,
   "id": "b3b1026f-0652-4a22-9aae-f06ee0d1f06b",
   "metadata": {},
   "outputs": [
    {
     "name": "stdin",
     "output_type": "stream",
     "text": [
      "Enter the list number 100 20 40 10\n"
     ]
    },
    {
     "name": "stdout",
     "output_type": "stream",
     "text": [
      "100\n"
     ]
    }
   ],
   "source": [
    "user_input = input(\"Enter the list number\")\n",
    "\n",
    "lst = list(map(int, user_input.split()))\n",
    "\n",
    "largest = lst[0]\n",
    "\n",
    "for num in lst:\n",
    "    if num > largest:\n",
    "        largest = num\n",
    "\n",
    "print(largest)\n",
    "\n"
   ]
  },
  {
   "cell_type": "markdown",
   "id": "dd282fe3-35bb-4ec3-85f8-755f093b8c6f",
   "metadata": {},
   "source": [
    "## 4. Write a program that rotates the element of a list so that the element at the first index moves to the \n",
    "second index, the element in the second index moves to the third index, etc., and the element in the last \n",
    "index moves to the first index."
   ]
  },
  {
   "cell_type": "code",
   "execution_count": 37,
   "id": "d89819b9-4abf-431d-974d-75d1bde13e10",
   "metadata": {},
   "outputs": [
    {
     "name": "stdin",
     "output_type": "stream",
     "text": [
      "Enter list elements separated by space:  Musharaf khalil Mughal\n"
     ]
    },
    {
     "name": "stdout",
     "output_type": "stream",
     "text": [
      "Original list: ['Musharaf', 'khalil', 'Mughal']\n",
      "Rotated list: ['Mughal', 'Musharaf', 'khalil']\n"
     ]
    }
   ],
   "source": [
    "# Take list input from user\n",
    "user_input = input(\"Enter list elements separated by space: \")\n",
    "lst = user_input.split()\n",
    "\n",
    "# Rotate list\n",
    "rotated_list = [lst[-1]] + lst[:-1]\n",
    "\n",
    "print(\"Original list:\", lst)\n",
    "print(\"Rotated list:\", rotated_list)\n"
   ]
  },
  {
   "cell_type": "markdown",
   "id": "47246de8-02db-4eba-a0a1-3a27e5a3e081",
   "metadata": {},
   "source": [
    "## 5. Write a program that input a string and ask user to delete a given word from a string.  "
   ]
  },
  {
   "cell_type": "code",
   "execution_count": 83,
   "id": "e1da0e7d-0b48-474f-92d2-50db209a5a41",
   "metadata": {},
   "outputs": [
    {
     "name": "stdin",
     "output_type": "stream",
     "text": [
      "Enter a string:  Musharaf Khalil Mughal\n",
      "Enter the word you want to delete:  Mughal\n"
     ]
    },
    {
     "name": "stdout",
     "output_type": "stream",
     "text": [
      "Original string: Musharaf Khalil Mughal\n",
      "After deleting word: Musharaf Khalil\n"
     ]
    }
   ],
   "source": [
    "# Input string from user\n",
    "text = input(\"Enter a string: \")\n",
    "\n",
    "# Word to delete\n",
    "word_to_delete = input(\"Enter the word you want to delete: \")\n",
    "\n",
    "# Replace the word with empty string\n",
    "new_text = text.replace(word_to_delete, \"\")\n",
    "\n",
    "print(\"Original string:\", text)\n",
    "print(\"After deleting word:\", new_text.strip())"
   ]
  },
  {
   "cell_type": "markdown",
   "id": "a42d016e-d071-4049-a63d-817c599e6aae",
   "metadata": {},
   "source": [
    "## 6. Write a program that reads a string from the user containing a date in the form mm/dd/yyyy. It \n",
    "should print the date in the form March 12, 2021."
   ]
  },
  {
   "cell_type": "code",
   "execution_count": 86,
   "id": "fa2fed43-12cd-430d-bcb7-6c360926eda1",
   "metadata": {},
   "outputs": [
    {
     "name": "stdin",
     "output_type": "stream",
     "text": [
      "Enter a date (mm/dd/yyyy):  03/12/2021\n"
     ]
    },
    {
     "name": "stdout",
     "output_type": "stream",
     "text": [
      "March 12, 2021\n"
     ]
    }
   ],
   "source": [
    "months = {\n",
    "    \"01\": \"January\", \"02\": \"February\", \"03\": \"March\", \"04\": \"April\",\n",
    "    \"05\": \"May\", \"06\": \"June\", \"07\": \"July\", \"08\": \"August\",\n",
    "    \"09\": \"September\", \"10\": \"October\", \"11\": \"November\", \"12\": \"December\"\n",
    "}\n",
    "\n",
    "# Read date input\n",
    "date_input = input(\"Enter a date (mm/dd/yyyy): \")\n",
    "\n",
    "# Split into parts\n",
    "month, day, year = date_input.split(\"/\")\n",
    "\n",
    "# Print formatted date\n",
    "print(f\"{months[month]} {int(day)}, {year}\")"
   ]
  },
  {
   "cell_type": "markdown",
   "id": "c3efc48d-9d90-48bf-856f-7bdaf61d56ab",
   "metadata": {},
   "source": [
    "## 7. Write a program with a function that accepts a string from keyboard and create a new string after \n",
    "converting character of each word capitalized. For instance, if the sentence is \"stop and smell the roses.\" \n",
    "the output should be \"Stop And Smell The Roses\""
   ]
  },
  {
   "cell_type": "code",
   "execution_count": 87,
   "id": "f333e3ed-81fa-4567-8ea0-47b5ec8d40fc",
   "metadata": {},
   "outputs": [
    {
     "name": "stdin",
     "output_type": "stream",
     "text": [
      "Enter a sentence:  stop and smell the roses.\n"
     ]
    },
    {
     "name": "stdout",
     "output_type": "stream",
     "text": [
      "Output: Stop And Smell The Roses.\n"
     ]
    }
   ],
   "source": [
    "def capitalize_words(sentence):\n",
    "    # Split into words, capitalize each, then join back\n",
    "    words = sentence.split()\n",
    "    capitalized_words = [word.capitalize() for word in words]\n",
    "    return \" \".join(capitalized_words)\n",
    "# Take input from user\n",
    "user_input = input(\"Enter a sentence: \")\n",
    "result = capitalize_words(user_input)\n",
    "print(\"Output:\", result)"
   ]
  },
  {
   "cell_type": "markdown",
   "id": "5dbb9076-5112-44f9-9f41-b2e7c50c43f4",
   "metadata": {},
   "source": [
    "## 8. Find the sum of each row of matrix of size m x n. For example for the following matrix output will be \n",
    "like this : \n",
    "Sum of row 1 = 32 \n",
    "Sum of row 2 = 31 \n",
    "Sum of row 3 = 63 "
   ]
  },
  {
   "cell_type": "code",
   "execution_count": 8,
   "id": "baaabb02-e638-4de3-b3a1-f22476984140",
   "metadata": {},
   "outputs": [
    {
     "name": "stdin",
     "output_type": "stream",
     "text": [
      "Enter number of rows:  3\n",
      "Enter number of columns:  3\n"
     ]
    },
    {
     "name": "stdout",
     "output_type": "stream",
     "text": [
      "Enter the elements row by row:\n"
     ]
    },
    {
     "name": "stdin",
     "output_type": "stream",
     "text": [
      "Enter element for row 1, col 1:  11\n",
      "Enter element for row 1, col 2:  9\n",
      "Enter element for row 1, col 3:  12\n",
      "Enter element for row 2, col 1:  13\n",
      "Enter element for row 2, col 2:  7\n",
      "Enter element for row 2, col 3:  11\n",
      "Enter element for row 3, col 1:  23\n",
      "Enter element for row 3, col 2:  30\n",
      "Enter element for row 3, col 3:  10\n"
     ]
    },
    {
     "name": "stdout",
     "output_type": "stream",
     "text": [
      "\n",
      "Matrix:\n",
      "[11, 9, 12]\n",
      "[13, 7, 11]\n",
      "[23, 30, 10]\n",
      "Sum of row 1 = 32\n",
      "Sum of row 2 = 31\n",
      "Sum of row 3 = 63\n"
     ]
    }
   ],
   "source": [
    "# Input matrix size\n",
    "m = int(input(\"Enter number of rows: \"))\n",
    "n = int(input(\"Enter number of columns: \"))\n",
    "\n",
    "# Initialize matrix\n",
    "matrix = []\n",
    "\n",
    "# Input matrix elements\n",
    "print(\"Enter the elements row by row:\")\n",
    "for i in range(m):\n",
    "    row = []\n",
    "    for j in range(n):\n",
    "        value = int(input(f\"Enter element for row {i+1}, col {j+1}: \"))\n",
    "        row.append(value)\n",
    "    matrix.append(row)\n",
    "\n",
    "# Display matrix\n",
    "print(\"\\nMatrix:\")\n",
    "for row in matrix:\n",
    "    print(row)\n",
    "\n",
    "# Find and display sum of each row\n",
    "for i in range(m):\n",
    "    row_sum = sum(matrix[i])\n",
    "    print(f\"Sum of row {i+1} = {row_sum}\")\n"
   ]
  },
  {
   "cell_type": "markdown",
   "id": "f3d8a5f0-3898-4aaf-a817-56ff7648bda7",
   "metadata": {},
   "source": [
    "## 9. Write a program to add two matrices of size n x m."
   ]
  },
  {
   "cell_type": "code",
   "execution_count": 21,
   "id": "4ec7c4b7-cea9-4683-8b99-e0e98a290470",
   "metadata": {},
   "outputs": [
    {
     "name": "stdin",
     "output_type": "stream",
     "text": [
      "Enter the number of raw 2\n",
      "Enter the number of col 2\n",
      "A[1] [1]: 23\n",
      "A[1] [2]: 54\n",
      "A[2] [1]: 65\n",
      "A[2] [2]: 34\n"
     ]
    },
    {
     "name": "stdout",
     "output_type": "stream",
     "text": [
      "\n",
      "Matrix B:\n"
     ]
    },
    {
     "name": "stdin",
     "output_type": "stream",
     "text": [
      "B [1] [1]: 43\n",
      "B [1] [2]: 23\n",
      "B [2] [1]: 12\n",
      "B [2] [2]: 43\n"
     ]
    },
    {
     "name": "stdout",
     "output_type": "stream",
     "text": [
      "\n",
      "Raw A:\n",
      "[23, 54]\n",
      "[65, 34]\n",
      "\n",
      "Raw B:\n",
      "[43, 23]\n",
      "[12, 43]\n",
      "\n",
      "Add two Matrics A + B:\n",
      "[66, 77]\n",
      "[77, 77]\n"
     ]
    }
   ],
   "source": [
    "n = int(input(\"Enter the number of raw\"))\n",
    "m = int(input(\"Enter the number of col\"))\n",
    "\n",
    "A = [[int(input(f\"A[{i+1}] [{j+1}]:\")) for j in range(m)] for i in range(n)]\n",
    "\n",
    "B = [[int(input(f\"B[{i+1}] [{j+1}]:\")) for j in range(m)] for i in range(m)]\n",
    "\n",
    "result = [[A[i][j] + B[i][j] for j in range(m)] for i in range(n)]\n",
    "\n",
    "\n",
    "\n",
    "print(\"\\nRaw A:\")\n",
    "for raw in A:\n",
    "    print(raw)\n",
    "    \n",
    "print(\"\\nRaw B:\")\n",
    "for raw in B:\n",
    "    print(raw)\n",
    "    \n",
    "\n",
    "\n",
    "print(\"\\nAdd two Matrics A + B:\")\n",
    "for row in result:\n",
    "    print(row)\n",
    "\n",
    "    \n"
   ]
  },
  {
   "cell_type": "markdown",
   "id": "987d086d-8457-4cd4-ab4b-7df8eeb2f42c",
   "metadata": {},
   "source": [
    "## 10. Write a program to multiply two matrices"
   ]
  },
  {
   "cell_type": "code",
   "execution_count": 4,
   "id": "4fd2e047-2c0c-48df-98e1-18effbd825f2",
   "metadata": {},
   "outputs": [
    {
     "name": "stdin",
     "output_type": "stream",
     "text": [
      "Enter the number of row Matrix A 2\n",
      "Enter the number of col Matrix A and row of Matrix B 3\n",
      "Enter the number of col Matrix B 2\n"
     ]
    },
    {
     "name": "stdout",
     "output_type": "stream",
     "text": [
      "\n",
      " Matrix A:\n"
     ]
    },
    {
     "name": "stdin",
     "output_type": "stream",
     "text": [
      "A 1 1 32\n",
      "A 1 2 54\n",
      "A 1 3 65\n",
      "A 2 1 37\n",
      "A 2 2 65\n",
      "A 2 3 12\n"
     ]
    },
    {
     "name": "stdout",
     "output_type": "stream",
     "text": [
      "\n",
      " Matrix B:\n"
     ]
    },
    {
     "name": "stdin",
     "output_type": "stream",
     "text": [
      "B 1 1 83\n",
      "B 1 2 92\n",
      "B 2 1 19\n",
      "B 2 2 38\n",
      "B 3 1 75\n",
      "B 3 2 91\n"
     ]
    },
    {
     "name": "stdout",
     "output_type": "stream",
     "text": [
      "\n",
      " Matric A\n",
      "[32, 54, 65]\n",
      "[37, 65, 12]\n",
      "\n",
      " Matric B\n",
      "[83, 92]\n",
      "[19, 38]\n",
      "[75, 91]\n",
      "\n",
      " Result:\n",
      "[2656, 1026, 4875, 2944, 2052, 5915]\n",
      "[3071, 1235, 900, 3404, 2470, 1092]\n"
     ]
    }
   ],
   "source": [
    "n = int(input(\"Enter the number of row Matrix A\"))\n",
    "m = int(input(\"Enter the number of col Matrix A and row of Matrix B\"))\n",
    "p = int(input(\"Enter the number of col Matrix B\"))\n",
    "\n",
    "print(\"\\n Matrix A:\")\n",
    "A = [[int(input(f\"A {i+1} {j+1}\")) for j in range(m)]for i in range(n)]\n",
    "\n",
    "print(\"\\n Matrix B:\")\n",
    "B = [[int(input(f\"B {i+1} {j+1}\")) for j in range(p)] for i in range(m)]\n",
    "\n",
    "print(\"\\n Matric A\")\n",
    "for row in A:\n",
    "    print(row)\n",
    "\n",
    "print(\"\\n Matric B\")\n",
    "for row in B:\n",
    "    print(row)\n",
    "\n",
    "print(\"\\n Result:\")\n",
    "result = [[A[i][j] * B[j][k] for k in range(p) for j in range(m) ] for i in range(n)]\n",
    "\n",
    "for row in result:\n",
    "    print(row)\n",
    "\n",
    "\n"
   ]
  }
 ],
 "metadata": {
  "kernelspec": {
   "display_name": "Python [conda env:base] *",
   "language": "python",
   "name": "conda-base-py"
  },
  "language_info": {
   "codemirror_mode": {
    "name": "ipython",
    "version": 3
   },
   "file_extension": ".py",
   "mimetype": "text/x-python",
   "name": "python",
   "nbconvert_exporter": "python",
   "pygments_lexer": "ipython3",
   "version": "3.13.5"
  }
 },
 "nbformat": 4,
 "nbformat_minor": 5
}
