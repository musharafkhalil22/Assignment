{
 "cells": [
  {
   "cell_type": "markdown",
   "id": "f0c8bff3-15de-446e-b3eb-d220e6d152bc",
   "metadata": {},
   "source": [
    "##      List Assignment"
   ]
  },
  {
   "cell_type": "code",
   "execution_count": null,
   "id": "31e491a6-8f79-4774-bc1a-ffe44a553018",
   "metadata": {},
   "outputs": [],
   "source": []
  }
 ],
 "metadata": {
  "kernelspec": {
   "display_name": "Python [conda env:base] *",
   "language": "python",
   "name": "conda-base-py"
  },
  "language_info": {
   "codemirror_mode": {
    "name": "ipython",
    "version": 3
   },
   "file_extension": ".py",
   "mimetype": "text/x-python",
   "name": "python",
   "nbconvert_exporter": "python",
   "pygments_lexer": "ipython3",
   "version": "3.13.5"
  }
 },
 "nbformat": 4,
 "nbformat_minor": 5
}
